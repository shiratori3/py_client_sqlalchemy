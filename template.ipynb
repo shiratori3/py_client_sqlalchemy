{
 "cells": [
  {
   "cell_type": "code",
   "execution_count": null,
   "id": "incident-nightmare",
   "metadata": {},
   "outputs": [],
   "source": [
    "dir()\n",
    "# test whether preload the modules"
   ]
  },
  {
   "cell_type": "code",
   "execution_count": null,
   "id": "invisible-eleven",
   "metadata": {},
   "outputs": [],
   "source": [
    "from conf_manage import readConf  # noqa: E402\n",
    "cwdPath = Path(readConf()[\"path\"]['cwd'])\n",
    "print(cwdPath)"
   ]
  },
  {
   "cell_type": "code",
   "execution_count": null,
   "id": "altered-psychology",
   "metadata": {
    "scrolled": false
   },
   "outputs": [],
   "source": [
    "# replace with your database\n",
    "manager = SqlDbManager()\n",
    "manager.read_conn_list()\n",
    "manager.set_engine('164', future=True)\n",
    "engine_164 = manager.get_engine('164')\n",
    "# print(engine_164)\n",
    "sql = sql_read(cwdPath.joinpath('gitignore\\\\sqlscript\\\\test_year.txt'))\n",
    "outfile = 'D:\\\\test.xlsx'\n",
    "# print(sql)\n",
    "sql_result = sql_query(engine_164, sql=sql, sql_db_switch='USE JYFIN', return_df=False, to_file=outfile)\n",
    "print(sql_result)"
   ]
  },
  {
   "cell_type": "code",
   "execution_count": null,
   "id": "difficult-disclosure",
   "metadata": {},
   "outputs": [],
   "source": []
  }
 ],
 "metadata": {
  "kernelspec": {
   "display_name": "Python 3",
   "language": "python",
   "name": "python3"
  },
  "language_info": {
   "codemirror_mode": {
    "name": "ipython",
    "version": 3
   },
   "file_extension": ".py",
   "mimetype": "text/x-python",
   "name": "python",
   "nbconvert_exporter": "python",
   "pygments_lexer": "ipython3",
   "version": "3.7.10"
  }
 },
 "nbformat": 4,
 "nbformat_minor": 5
}
