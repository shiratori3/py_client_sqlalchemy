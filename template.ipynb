{
 "cells": [
  {
   "cell_type": "code",
   "execution_count": null,
   "source": [
    "dir()\r\n",
    "# test whether preload the modules"
   ],
   "outputs": [],
   "metadata": {}
  },
  {
   "cell_type": "code",
   "execution_count": null,
   "source": [
    "from ConfManager import cwdPath  # noqa: E402\r\n",
    "print(cwdPath)"
   ],
   "outputs": [],
   "metadata": {}
  },
  {
   "cell_type": "code",
   "execution_count": null,
   "source": [
    "# replace with your database\r\n",
    "manager = SqlDbManager()\r\n",
    "manager.read_conn_list()\r\n",
    "manager.set_engine('164', future=True)\r\n",
    "engine_164 = manager.get_engine('164')\r\n",
    "# print(engine_164)\r\n",
    "sql = sql_read(cwdPath.joinpath('gitignore\\\\sqlscript\\\\test_year.txt'))\r\n",
    "outfile = 'D:\\\\test.xlsx'\r\n",
    "# print(sql)\r\n",
    "sql_result = sql_query(engine_164, sql=sql, sql_db_switch='USE JYFIN', return_df=False, to_file=outfile)\r\n",
    "print(sql_result)"
   ],
   "outputs": [],
   "metadata": {
    "scrolled": false
   }
  },
  {
   "cell_type": "code",
   "execution_count": null,
   "source": [],
   "outputs": [],
   "metadata": {}
  }
 ],
 "metadata": {
  "kernelspec": {
   "display_name": "Python 3",
   "language": "python",
   "name": "python3"
  },
  "language_info": {
   "codemirror_mode": {
    "name": "ipython",
    "version": 3
   },
   "file_extension": ".py",
   "mimetype": "text/x-python",
   "name": "python",
   "nbconvert_exporter": "python",
   "pygments_lexer": "ipython3",
   "version": "3.7.10"
  }
 },
 "nbformat": 4,
 "nbformat_minor": 5
}