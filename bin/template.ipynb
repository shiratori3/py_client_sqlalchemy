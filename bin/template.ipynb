{
 "cells": [
  {
   "cell_type": "code",
   "execution_count": null,
   "id": "820e09ad",
   "metadata": {},
   "outputs": [],
   "source": [
    "# test whether preload the modules EngineManager, sql_read, sql_query\n",
    "dir()\n",
    "\n",
    "# if not imported, reimport the class and func\n",
    "from src.manager.EngineManager import EngineManager\n",
    "from src.basic.sql_func import sql_read\n",
    "from src.basic.sql_func import sql_query"
   ]
  },
  {
   "cell_type": "code",
   "execution_count": null,
   "id": "3621be7f",
   "metadata": {},
   "outputs": [],
   "source": [
    "# diff ways to init a instance of EngineManager\n",
    "if False:\n",
    "    # customize from Ignorer and Crypt\n",
    "    from src.manager.Ignorer import Ignorer  # noqa: E402\n",
    "    from src.manager.Crypt import Crypt  # noqa: E402\n",
    "    gitignorer = Ignorer()\n",
    "    crypter = Crypt(gitignorer=gitignorer)\n",
    "    cmgr = ConnManager(crypter=crypter, gitignorer=gitignorer)\n",
    "    cmgr_ui = ConnManagerUI(conn_manager=cmgr)\n",
    "    manager = EngineManager(cmgr_ui=cmgr_ui)\n",
    "\n",
    "if False:\n",
    "    # customize from ConnManager and ConnManagerUI\n",
    "    cmgr = ConnManager()\n",
    "    cmgr_ui = ConnManagerUI(conn_manager=cmgr)\n",
    "    manager = EngineManager(cmgr_ui=cmgr_ui)\n",
    "\n",
    "if True:\n",
    "    # no custom\n",
    "    manager = EngineManager()\n",
    "manager.read_conn_list()"
   ]
  },
  {
   "cell_type": "code",
   "execution_count": null,
   "id": "9a4d3eb4",
   "metadata": {},
   "outputs": [],
   "source": [
    "import logging\n",
    "import time\n",
    "\n",
    "from src.manager.main import conf  # noqa: E402\n",
    "cwdPath = conf.get_cwdPath()\n",
    "print(cwdPath)"
   ]
  },
  {
   "cell_type": "code",
   "execution_count": null,
   "id": "3396728f",
   "metadata": {},
   "outputs": [],
   "source": [
    "# default without creating ConnManagerUI before\n",
    "manager = EngineManager()\n",
    "manager.read_conn_list()"
   ]
  },
  {
   "cell_type": "code",
   "execution_count": null,
   "id": "e86299cf",
   "metadata": {},
   "outputs": [],
   "source": [
    "# replace with your database and sql\n",
    "manager.set_engine('164', future=True)\n",
    "engine_164 = manager.get_engine('164')\n",
    "# print(engine_164)"
   ]
  },
  {
   "cell_type": "code",
   "execution_count": null,
   "id": "f2f344f4",
   "metadata": {},
   "outputs": [],
   "source": [
    "sql = sql_read(cwdPath.joinpath('res\\\\dev\\\\sqlscript\\\\test_year.txt'))\n",
    "# print(sql)"
   ]
  },
  {
   "cell_type": "code",
   "execution_count": null,
   "id": "734297d4",
   "metadata": {
    "scrolled": false
   },
   "outputs": [],
   "source": [
    "outfile = 'D:\\\\test.xlsx'\n",
    "s_time = time.time()\n",
    "sql_result = sql_query(engine_164, sql=sql, sql_db_switch='USE JYFIN', return_df=True, to_file=outfile)\n",
    "e_time = time.time()\n",
    "if sql_result.empty:\n",
    "    pass\n",
    "else:\n",
    "    logging.info(\"run_time: {:.2f}s\".format(e_time - s_time))\n",
    "    logging.info(\"row_num:  {!r}\".format(sql_result.shape[0]))\n",
    "    logging.info(\"\\n{0!r}\".format(sql_result.head(15)))"
   ]
  },
  {
   "cell_type": "code",
   "execution_count": null,
   "id": "34398209",
   "metadata": {},
   "outputs": [],
   "source": [
    "# sql_template\n",
    "from src.sql_template.ErrorWordTemplate import ErrorWordTemplate  # noqa: E402\n",
    "\n",
    "word_sql = ErrorWordTemplate()\n",
    "word = '除同公司正常经营业务相关的有效套期保值业务外，持有交易性金融资产、衍生金融资产、交易性金融负债、衍生金融负债产生的公允价值变动损益，以及处置交易性金融资产、衍生金融资产、交易性金融负债、衍生金融负债和其他债权投资取得的投资收益'\n",
    "word_sql.print_word_position(word)\n",
    "word_sql.create_sql(word, char_pairs=['经营', '公允', '债权'])\n",
    "logging.info(\"sql_temp: \\n{}\".format(word_sql.sql_result))"
   ]
  },
  {
   "cell_type": "code",
   "execution_count": null,
   "id": "fe5cbc98",
   "metadata": {},
   "outputs": [],
   "source": [
    "# check sql created by sql_template\n",
    "s_time = time.time()\n",
    "sql_result = sql_query(engine_164, sql=word_sql.sql_result, sql_db_switch='USE JYFIN', return_df=True)\n",
    "e_time = time.time()\n",
    "logging.info(\"run_time: {:.2f}s\".format(e_time - s_time))\n",
    "logging.info(\"row_num:  {!r}\".format(sql_result.shape[0]))\n",
    "logging.info(\"\\n{0!r}\".format(sql_result.head(15)))"
   ]
  }
 ],
 "metadata": {
  "interpreter": {
   "hash": "445f488f917a5d8c0579fe3988f0d1a1f9ace87f62aac845300cf0fe03c07e2d"
  },
  "kernelspec": {
   "display_name": "Python 3",
   "language": "python",
   "name": "python3"
  },
  "language_info": {
   "codemirror_mode": {
    "name": "ipython",
    "version": 3
   },
   "file_extension": ".py",
   "mimetype": "text/x-python",
   "name": "python",
   "nbconvert_exporter": "python",
   "pygments_lexer": "ipython3",
   "version": "3.7.11"
  }
 },
 "nbformat": 4,
 "nbformat_minor": 5
}
