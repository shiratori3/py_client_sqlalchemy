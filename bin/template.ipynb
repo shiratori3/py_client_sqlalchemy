{
 "cells": [
  {
   "cell_type": "code",
   "execution_count": null,
   "id": "72e06437",
   "metadata": {},
   "outputs": [],
   "source": [
    "# test whether preload the modules EngineManager, sql_read, sql_query\n",
    "dir()\n",
    "\n",
    "# if not imported, reimport the class and func\n",
    "from src.manager.EngineManager import EngineManager\n",
    "from src.basic.sql_func import sql_read\n",
    "from src.basic.sql_func import sql_query"
   ]
  },
  {
   "cell_type": "code",
   "execution_count": null,
   "id": "044c6903",
   "metadata": {},
   "outputs": [],
   "source": [
    "import logging\n",
    "import time\n",
    "\n",
    "from src.manager.ConfManager import cwdPath  # noqa: E402\n",
    "from src.manager.ConfManager import conf  # noqa: E402\n",
    "print(cwdPath)"
   ]
  },
  {
   "cell_type": "code",
   "execution_count": null,
   "id": "008d00e2",
   "metadata": {},
   "outputs": [],
   "source": [
    "# manage the configuration files of connections\n",
    "from src.manager.ConnUI import FileManager  # noqa: E402\n",
    "from src.manager.ConnUI import ConnUI  # noqa: E402\n",
    "fmgr = FileManager()\n",
    "CUI = ConnUI(fmgr)\n",
    "# print(fmgr._conf_path)\n",
    "# print(CUI.run())\n",
    "manager = EngineManager(CUI)\n",
    "manager.read_conn_list()"
   ]
  },
  {
   "cell_type": "code",
   "execution_count": null,
   "id": "d4353e77",
   "metadata": {},
   "outputs": [],
   "source": [
    "# default without creating CUI before\n",
    "manager = EngineManager()\n",
    "manager.read_conn_list()\n",
    "# same to:\n",
    "#    fmgr = FileManager(\n",
    "#        conf_path=cwdPath.joinpath('gitignore\\\\conn'), file_encrypt=True, pubkeyfile=None, prikeyfile=None)\n",
    "#    CUI = ConnUI(fmgr)\n",
    "#    manager = SqlDbManager(CUI)"
   ]
  },
  {
   "cell_type": "code",
   "execution_count": null,
   "id": "8f8eb0ec",
   "metadata": {},
   "outputs": [],
   "source": [
    "# replace with your database and sql\n",
    "manager.set_engine('164', future=True)\n",
    "engine_164 = manager.get_engine('164')\n",
    "# print(engine_164)"
   ]
  },
  {
   "cell_type": "code",
   "execution_count": null,
   "id": "c8792f24",
   "metadata": {},
   "outputs": [],
   "source": [
    "sql = sql_read(cwdPath.joinpath('res\\\\dev\\\\sqlscript\\\\test_year.txt'))\n",
    "# print(sql)"
   ]
  },
  {
   "cell_type": "code",
   "execution_count": null,
   "id": "a7769502",
   "metadata": {
    "scrolled": false
   },
   "outputs": [],
   "source": [
    "outfile = 'D:\\\\test.xlsx'\n",
    "s_time = time.time()\n",
    "sql_result = sql_query(engine_164, sql=sql, sql_db_switch='USE JYFIN', return_df=True, to_file=outfile)\n",
    "e_time = time.time()\n",
    "if sql_result.empty:\n",
    "    pass\n",
    "else:\n",
    "    logging.info(\"run_time: {:.2f}s\".format(e_time - s_time))\n",
    "    logging.info(\"row_num:  {!r}\".format(sql_result.shape[0]))\n",
    "    logging.info(\"\\n{0!r}\".format(sql_result.head(15)))"
   ]
  },
  {
   "cell_type": "code",
   "execution_count": null,
   "id": "bc4cfaf7",
   "metadata": {},
   "outputs": [],
   "source": [
    "# sql_template\n",
    "from src.sql_template.ErrorWordTemplate import ErrorWordTemplate  # noqa: E402\n",
    "\n",
    "word_sql = ErrorWordTemplate()\n",
    "word = '除同公司正常经营业务相关的有效套期保值业务外，持有交易性金融资产、衍生金融资产、交易性金融负债、衍生金融负债产生的公允价值变动损益，以及处置交易性金融资产、衍生金融资产、交易性金融负债、衍生金融负债和其他债权投资取得的投资收益'\n",
    "word_sql.print_word_position(word)\n",
    "word_sql.create_sql(word, char_pairs=['经营', '公允', '债权'])\n",
    "logging.info(\"sql_temp: \\n{}\".format(word_sql.sql_result))"
   ]
  },
  {
   "cell_type": "code",
   "execution_count": null,
   "id": "0eb97871",
   "metadata": {},
   "outputs": [],
   "source": [
    "# check sql created by sql_template\n",
    "s_time = time.time()\n",
    "sql_result = sql_query(engine_164, sql=word_sql.sql_result, sql_db_switch='USE JYFIN', return_df=True)\n",
    "e_time = time.time()\n",
    "logging.info(\"run_time: {:.2f}s\".format(e_time - s_time))\n",
    "logging.info(\"row_num:  {!r}\".format(sql_result.shape[0]))\n",
    "logging.info(\"\\n{0!r}\".format(sql_result.head(15)))"
   ]
  }
 ],
 "metadata": {
  "interpreter": {
   "hash": "445f488f917a5d8c0579fe3988f0d1a1f9ace87f62aac845300cf0fe03c07e2d"
  },
  "kernelspec": {
   "display_name": "Python 3",
   "language": "python",
   "name": "python3"
  },
  "language_info": {
   "codemirror_mode": {
    "name": "ipython",
    "version": 3
   },
   "file_extension": ".py",
   "mimetype": "text/x-python",
   "name": "python",
   "nbconvert_exporter": "python",
   "pygments_lexer": "ipython3",
   "version": "3.7.11"
  }
 },
 "nbformat": 4,
 "nbformat_minor": 5
}
