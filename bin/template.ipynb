{
 "cells": [
  {
   "cell_type": "code",
   "execution_count": null,
   "source": [
    "# test whether preload the modules\r\n",
    "dir()"
   ],
   "outputs": [],
   "metadata": {}
  },
  {
   "cell_type": "code",
   "execution_count": null,
   "source": [
    "from src.manager.ConfManager import cwdPath  # noqa: E402\r\n",
    "print(cwdPath)"
   ],
   "outputs": [],
   "metadata": {}
  },
  {
   "cell_type": "code",
   "execution_count": null,
   "source": [
    "# manage the configuration files of connections\r\n",
    "from src.manager.ConnUI import FileManager  # noqa: E402\r\n",
    "from src.manager.ConnUI import ConnUI  # noqa: E402\r\n",
    "fmgr = FileManager()\r\n",
    "CUI = ConnUI(fmgr)\r\n",
    "# print(fmgr._conf_path)\r\n",
    "# print(CUI.run())\r\n",
    "manager = SqlDbManager(CUI)\r\n",
    "manager.read_conn_list()"
   ],
   "outputs": [],
   "metadata": {}
  },
  {
   "cell_type": "code",
   "execution_count": null,
   "source": [
    "# default without creating CUI before\r\n",
    "manager = SqlDbManager()\r\n",
    "manager.read_conn_list()\r\n",
    "# same to:\r\n",
    "#    fmgr = FileManager(\r\n",
    "#        conf_path=cwdPath.joinpath('gitignore\\\\conn'), file_encrypt=True, pubkeyfile=None, prikeyfile=None)\r\n",
    "#    CUI = ConnUI(fmgr)\r\n",
    "#    manager = SqlDbManager(CUI)"
   ],
   "outputs": [],
   "metadata": {}
  },
  {
   "cell_type": "code",
   "execution_count": null,
   "source": [
    "# replace with your database and sql\r\n",
    "manager.set_engine('164', future=True)\r\n",
    "engine_164 = manager.get_engine('164')\r\n",
    "# print(engine_164)\r\n",
    "sql = sql_read(cwdPath.joinpath('gitignore\\\\sqlscript\\\\test_year.txt'))\r\n",
    "outfile = 'D:\\\\test.xlsx'\r\n",
    "# print(sql)\r\n",
    "sql_result = sql_query(engine_164, sql=sql, sql_db_switch='USE JYFIN', return_df=False, to_file=outfile)\r\n",
    "print(sql_result)"
   ],
   "outputs": [],
   "metadata": {
    "scrolled": false
   }
  },
  {
   "cell_type": "code",
   "execution_count": null,
   "source": [],
   "outputs": [],
   "metadata": {}
  }
 ],
 "metadata": {
  "kernelspec": {
   "name": "python3",
   "display_name": "Python 3.7.11 64-bit ('datasci': conda)"
  },
  "language_info": {
   "codemirror_mode": {
    "name": "ipython",
    "version": 3
   },
   "file_extension": ".py",
   "mimetype": "text/x-python",
   "name": "python",
   "nbconvert_exporter": "python",
   "pygments_lexer": "ipython3",
   "version": "3.7.11"
  },
  "interpreter": {
   "hash": "445f488f917a5d8c0579fe3988f0d1a1f9ace87f62aac845300cf0fe03c07e2d"
  }
 },
 "nbformat": 4,
 "nbformat_minor": 5
}