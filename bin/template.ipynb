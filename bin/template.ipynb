{
 "cells": [
  {
   "cell_type": "code",
   "execution_count": null,
   "id": "984e268e",
   "metadata": {},
   "outputs": [],
   "source": [
    "# test whether preload the modules EngineManager, sql_read, sql_query\n",
    "# dir()\n",
    "\n",
    "# if not imported, reimport the class and func\n",
    "from src.manager.EngineManager import EngineManager\n",
    "from src.utils.sql import sql_read\n",
    "from src.utils.sql import sql_query\n",
    "from src.utils.sql import sql_result_output"
   ]
  },
  {
   "cell_type": "code",
   "execution_count": null,
   "id": "09c9f9da",
   "metadata": {},
   "outputs": [],
   "source": [
    "# change the width of notebook\n",
    "display(WIDTH_85)\n",
    "# change the max_colwidth of pd\n",
    "pd.set_option(\"display.max_colwidth\", 100)"
   ]
  },
  {
   "cell_type": "code",
   "execution_count": null,
   "id": "91a5cfc6",
   "metadata": {},
   "outputs": [],
   "source": [
    "# diff ways to init a instance of EngineManager\n",
    "if False:\n",
    "    # customize from Ignorer and Crypt\n",
    "    from src.manager.Ignorer import Ignorer  # noqa: E402\n",
    "    from src.manager.Crypt import Crypt  # noqa: E402\n",
    "    gitignorer = Ignorer()\n",
    "    crypter = Crypt(gitignorer=gitignorer)\n",
    "    cmgr = ConnManager(crypter=crypter, gitignorer=gitignorer)\n",
    "    cmgr_ui = ConnManagerUI(conn_manager=cmgr)\n",
    "    manager = EngineManager(cmgr_ui=cmgr_ui)\n",
    "\n",
    "if False:\n",
    "    # customize from ConnManager and ConnManagerUI\n",
    "    cmgr = ConnManager()\n",
    "    cmgr_ui = ConnManagerUI(conn_manager=cmgr)\n",
    "    manager = EngineManager(cmgr_ui=cmgr_ui)\n",
    "\n",
    "if True:\n",
    "    # no custom\n",
    "    manager = EngineManager()\n",
    "manager.read_conn_list()"
   ]
  },
  {
   "cell_type": "code",
   "execution_count": null,
   "id": "05612a62",
   "metadata": {},
   "outputs": [],
   "source": [
    "import time\n",
    "import pandas as pd\n",
    "\n",
    "from src.manager.main import conf  # noqa: E402\n",
    "cwdPath = conf.get_cwdPath()\n",
    "# print(cwdPath)\n",
    "\n",
    "from src.manager.LogManager import logmgr  # noqa: E402\n",
    "log = logmgr.get_logger(__name__)"
   ]
  },
  {
   "cell_type": "code",
   "execution_count": null,
   "id": "f03436dc",
   "metadata": {},
   "outputs": [],
   "source": [
    "# default without creating ConnManagerUI before\n",
    "manager = EngineManager()\n",
    "manager.read_conn_list()"
   ]
  },
  {
   "cell_type": "code",
   "execution_count": null,
   "id": "79ff5c0c",
   "metadata": {},
   "outputs": [],
   "source": [
    "# replace with your database and sql\n",
    "manager.set_engine('164', future=True)\n",
    "engine_164 = manager.get_engine('164')\n",
    "# print(engine_164)"
   ]
  },
  {
   "cell_type": "code",
   "execution_count": null,
   "id": "47249bb1",
   "metadata": {},
   "outputs": [],
   "source": [
    "sql = sql_read(cwdPath.joinpath('res\\\\dev\\\\sqlscript\\\\test_year.txt'))\n",
    "# print(sql)"
   ]
  },
  {
   "cell_type": "code",
   "execution_count": null,
   "id": "1e12f69c",
   "metadata": {
    "scrolled": false
   },
   "outputs": [],
   "source": [
    "outfile = 'D:\\\\test.xlsx'\n",
    "s_time = time.time()\n",
    "sql_result = sql_query(engine_164, sql=sql, sql_db_switch='USE JYFIN', return_df=True, to_file=outfile)\n",
    "e_time = time.time()\n",
    "if sql_result.empty:\n",
    "    pass\n",
    "else:\n",
    "    log.info(\"run_time: {:.2f}s\".format(e_time - s_time))\n",
    "    log.info(\"row_num:  {!r}\".format(sql_result.shape[0]))\n",
    "    log.info(\"\\n{0!r}\".format(sql_result.head(15)))"
   ]
  },
  {
   "cell_type": "code",
   "execution_count": null,
   "id": "23cbdb4a",
   "metadata": {},
   "outputs": [],
   "source": [
    "# sql_template\n",
    "from src.sql_template.ErrorWordTemplate import ErrorWordTemplate  # noqa: E402\n",
    "\n",
    "word_sql = ErrorWordTemplate()\n",
    "word = '除同公司正常经营业务相关的有效套期保值业务外，持有交易性金融资产、衍生金融资产、交易性金融负债、衍生金融负债产生的公允价值变动损益，以及处置交易性金融资产、衍生金融资产、交易性金融负债、衍生金融负债和其他债权投资取得的投资收益'\n",
    "word_sql.print_word_position(word)\n",
    "word_sql.create_sql(word, char_pairs=['经营', '公允', '债权'])\n",
    "log.info(\"sql_temp: \\n{}\".format(word_sql.sql_result))"
   ]
  },
  {
   "cell_type": "code",
   "execution_count": null,
   "id": "fde462bf",
   "metadata": {},
   "outputs": [],
   "source": [
    "# check sql created by sql_template\n",
    "s_time = time.time()\n",
    "sql_result = sql_query(engine_164, sql=word_sql.sql_result, sql_db_switch='USE JYFIN', return_df=True)\n",
    "e_time = time.time()\n",
    "log.info(\"run_time: {:.2f}s\".format(e_time - s_time))\n",
    "if sql_result.empty:\n",
    "    log.warning(\"SQL查询结果为空，请检查语句或输入参数。\")\n",
    "else:\n",
    "    log.info(\"row_num:  {!r}\".format(sql_result.shape[0]))\n",
    "    log.info(\"\\n{0!r}\".format(sql_result.head(15)))"
   ]
  },
  {
   "cell_type": "code",
   "execution_count": null,
   "id": "17ed42c0",
   "metadata": {},
   "outputs": [],
   "source": [
    "# or use sql_result_output\n",
    "sql_result_output(\n",
    "    engine=engine_164, sql=word_sql.sql_result, sql_db_switch='USE JYFIN',\n",
    "    distinct_result=True, overflow_to_file=False, overflow_filepath='D:\\\\',\n",
    "    show_max_row=30, df_styler=True)"
   ]
  },
  {
   "cell_type": "code",
   "execution_count": null,
   "id": "4af77f2a",
   "metadata": {},
   "outputs": [],
   "source": []
  }
 ],
 "metadata": {
  "interpreter": {
   "hash": "445f488f917a5d8c0579fe3988f0d1a1f9ace87f62aac845300cf0fe03c07e2d"
  },
  "kernelspec": {
   "display_name": "Python 3",
   "language": "python",
   "name": "python3"
  },
  "language_info": {
   "codemirror_mode": {
    "name": "ipython",
    "version": 3
   },
   "file_extension": ".py",
   "mimetype": "text/x-python",
   "name": "python",
   "nbconvert_exporter": "python",
   "pygments_lexer": "ipython3",
   "version": "3.7.11"
  }
 },
 "nbformat": 4,
 "nbformat_minor": 5
}
