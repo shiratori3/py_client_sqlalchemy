{
 "cells": [
  {
   "cell_type": "code",
   "execution_count": null,
   "source": [
    "# test whether preload the modules EngineManager, sql_read, sql_query\r\n",
    "dir()\r\n",
    "\r\n",
    "# if not imported, reimport the class and func\r\n",
    "from src.manager.EngineManager import EngineManager\r\n",
    "from src.basic.sql_func import sql_read\r\n",
    "from src.basic.sql_func import sql_query"
   ],
   "outputs": [],
   "metadata": {}
  },
  {
   "cell_type": "code",
   "execution_count": null,
   "source": [
    "# diff ways to init a instance of EngineManager\r\n",
    "if False:\r\n",
    "    # customize from Ignorer and Crypt\r\n",
    "    from src.manager.Ignorer import Ignorer  # noqa: E402\r\n",
    "    from src.manager.Crypt import Crypt  # noqa: E402\r\n",
    "    gitignorer = Ignorer()\r\n",
    "    crypter = Crypt(gitignorer=gitignorer)\r\n",
    "    cmgr = ConnManager(crypter=crypter, gitignorer=gitignorer)\r\n",
    "    cmgr_ui = ConnManagerUI(conn_manager=cmgr)\r\n",
    "    manager = EngineManager(cmgr_ui=cmgr_ui)\r\n",
    "\r\n",
    "if False:\r\n",
    "    # customize from ConnManager and ConnManagerUI\r\n",
    "    cmgr = ConnManager()\r\n",
    "    cmgr_ui = ConnManagerUI(conn_manager=cmgr)\r\n",
    "    manager = EngineManager(cmgr_ui=cmgr_ui)\r\n",
    "\r\n",
    "if True:\r\n",
    "    # no custom\r\n",
    "    manager = EngineManager()\r\n",
    "manager.read_conn_list()"
   ],
   "outputs": [],
   "metadata": {}
  },
  {
   "cell_type": "code",
   "execution_count": null,
   "source": [
    "import time\r\n",
    "import pandas as pd\r\n",
    "\r\n",
    "from src.manager.main import conf  # noqa: E402\r\n",
    "cwdPath = conf.get_cwdPath()\r\n",
    "# print(cwdPath)\r\n",
    "\r\n",
    "from src.manager.LogManager import logmgr  # noqa: E402\r\n",
    "log = logmgr.get_logger(__name__)\r\n"
   ],
   "outputs": [],
   "metadata": {}
  },
  {
   "cell_type": "code",
   "execution_count": null,
   "source": [
    "# default without creating ConnManagerUI before\r\n",
    "manager = EngineManager()\r\n",
    "manager.read_conn_list()"
   ],
   "outputs": [],
   "metadata": {}
  },
  {
   "cell_type": "code",
   "execution_count": null,
   "source": [
    "# replace with your database and sql\r\n",
    "manager.set_engine('164', future=True)\r\n",
    "engine_164 = manager.get_engine('164')\r\n",
    "# print(engine_164)"
   ],
   "outputs": [],
   "metadata": {}
  },
  {
   "cell_type": "code",
   "execution_count": null,
   "source": [
    "sql = sql_read(cwdPath.joinpath('res\\\\dev\\\\sqlscript\\\\test_year.txt'))\r\n",
    "# print(sql)"
   ],
   "outputs": [],
   "metadata": {}
  },
  {
   "cell_type": "code",
   "execution_count": null,
   "source": [
    "outfile = 'D:\\\\test.xlsx'\r\n",
    "s_time = time.time()\r\n",
    "sql_result = sql_query(engine_164, sql=sql, sql_db_switch='USE JYFIN', return_df=True, to_file=outfile)\r\n",
    "e_time = time.time()\r\n",
    "if sql_result.empty:\r\n",
    "    pass\r\n",
    "else:\r\n",
    "    log.info(\"run_time: {:.2f}s\".format(e_time - s_time))\r\n",
    "    log.info(\"row_num:  {!r}\".format(sql_result.shape[0]))\r\n",
    "    log.info(\"\\n{0!r}\".format(sql_result.head(15)))"
   ],
   "outputs": [],
   "metadata": {
    "scrolled": false
   }
  },
  {
   "cell_type": "code",
   "execution_count": null,
   "source": [
    "# sql_template\r\n",
    "from src.sql_template.ErrorWordTemplate import ErrorWordTemplate  # noqa: E402\r\n",
    "\r\n",
    "word_sql = ErrorWordTemplate()\r\n",
    "word = '除同公司正常经营业务相关的有效套期保值业务外，持有交易性金融资产、衍生金融资产、交易性金融负债、衍生金融负债产生的公允价值变动损益，以及处置交易性金融资产、衍生金融资产、交易性金融负债、衍生金融负债和其他债权投资取得的投资收益'\r\n",
    "word_sql.print_word_position(word)\r\n",
    "word_sql.create_sql(word, char_pairs=['经营', '公允', '债权'])\r\n",
    "log.info(\"sql_temp: \\n{}\".format(word_sql.sql_result))"
   ],
   "outputs": [],
   "metadata": {}
  },
  {
   "cell_type": "code",
   "execution_count": null,
   "source": [
    "# check sql created by sql_template\r\n",
    "s_time = time.time()\r\n",
    "sql_result = sql_query(engine_164, sql=word_sql.sql_result, sql_db_switch='USE JYFIN', return_df=True)\r\n",
    "e_time = time.time()\r\n",
    "log.info(\"run_time: {:.2f}s\".format(e_time - s_time))\r\n",
    "log.info(\"row_num:  {!r}\".format(sql_result.shape[0]))\r\n",
    "log.info(\"\\n{0!r}\".format(sql_result.head(15)))"
   ],
   "outputs": [],
   "metadata": {}
  }
 ],
 "metadata": {
  "interpreter": {
   "hash": "445f488f917a5d8c0579fe3988f0d1a1f9ace87f62aac845300cf0fe03c07e2d"
  },
  "kernelspec": {
   "name": "python3",
   "display_name": "Python 3.7.11 64-bit ('datasci': conda)"
  },
  "language_info": {
   "codemirror_mode": {
    "name": "ipython",
    "version": 3
   },
   "file_extension": ".py",
   "mimetype": "text/x-python",
   "name": "python",
   "nbconvert_exporter": "python",
   "pygments_lexer": "ipython3",
   "version": "3.7.11"
  }
 },
 "nbformat": 4,
 "nbformat_minor": 5
}