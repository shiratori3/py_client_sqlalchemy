{
 "cells": [
  {
   "cell_type": "code",
   "execution_count": null,
   "source": [
    "# test whether preload the modules\r\n",
    "dir()"
   ],
   "outputs": [],
   "metadata": {}
  },
  {
   "cell_type": "code",
   "execution_count": null,
   "source": [
    "import logging\r\n",
    "import time\r\n",
    "\r\n",
    "from src.manager.ConfManager import cwdPath  # noqa: E402\r\n",
    "from src.manager.ConfManager import conf  # noqa: E402\r\n",
    "print(cwdPath)"
   ],
   "outputs": [],
   "metadata": {}
  },
  {
   "cell_type": "code",
   "execution_count": null,
   "source": [
    "# manage the configuration files of connections\r\n",
    "from src.manager.ConnUI import FileManager  # noqa: E402\r\n",
    "from src.manager.ConnUI import ConnUI  # noqa: E402\r\n",
    "fmgr = FileManager()\r\n",
    "CUI = ConnUI(fmgr)\r\n",
    "# print(fmgr._conf_path)\r\n",
    "# print(CUI.run())\r\n",
    "manager = SqlDbManager(CUI)\r\n",
    "manager.read_conn_list()"
   ],
   "outputs": [],
   "metadata": {}
  },
  {
   "cell_type": "code",
   "execution_count": null,
   "source": [
    "# default without creating CUI before\r\n",
    "manager = SqlDbManager()\r\n",
    "manager.read_conn_list()\r\n",
    "# same to:\r\n",
    "#    fmgr = FileManager(\r\n",
    "#        conf_path=cwdPath.joinpath('gitignore\\\\conn'), file_encrypt=True, pubkeyfile=None, prikeyfile=None)\r\n",
    "#    CUI = ConnUI(fmgr)\r\n",
    "#    manager = SqlDbManager(CUI)"
   ],
   "outputs": [],
   "metadata": {}
  },
  {
   "cell_type": "code",
   "execution_count": null,
   "source": [
    "# replace with your database and sql\r\n",
    "manager.set_engine('164', future=True)\r\n",
    "engine_164 = manager.get_engine('164')\r\n",
    "# print(engine_164)"
   ],
   "outputs": [],
   "metadata": {}
  },
  {
   "cell_type": "code",
   "execution_count": null,
   "source": [
    "sql = sql_read(cwdPath.joinpath('gitignore\\\\sqlscript\\\\test_year.txt'))\r\n",
    "outfile = 'D:\\\\test.xlsx'\r\n",
    "s_time = time.time()\r\n",
    "# print(sql)\r\n",
    "sql_result = sql_query(engine_164, sql=sql, sql_db_switch='USE JYFIN', return_df=False, to_file=outfile)\r\n",
    "e_time = time.time()\r\n",
    "logging.info(\"run_time: {:.2f}s\".format(e_time - s_time))\r\n",
    "logging.info(\"row_num:  {!r}\".format(sql_result.shape[0]))\r\n",
    "logging.info(\"\\n{0!r}\".format(sql_result.head(15)))"
   ],
   "outputs": [],
   "metadata": {
    "scrolled": false
   }
  },
  {
   "cell_type": "code",
   "execution_count": null,
   "source": [
    "\r\n",
    "# sql_template\r\n",
    "from src.sql_template.ErrorWordTemplate import ErrorWordTemplate  # noqa: E402\r\n",
    "\r\n",
    "word_sql = ErrorWordTemplate()\r\n",
    "word = '除同公司正常经营业务相关的有效套期保值业务外，持有交易性金融资产、衍生金融资产、交易性金融负债、衍生金融负债产生的公允价值变动损益，以及处置交易性金融资产、衍生金融资产、交易性金融负债、衍生金融负债和其他债权投资取得的投资收益'\r\n",
    "word_sql.print_word_position(word)\r\n",
    "word_sql.create_sql(word, char_pairs=['经营', '公允', '债权'])\r\n",
    "logging.info(\"sql_temp: \\n{!r}\".format(word_sql.sql_result))"
   ],
   "outputs": [],
   "metadata": {}
  },
  {
   "cell_type": "code",
   "execution_count": null,
   "source": [
    "# check sql created by sql_template\r\n",
    "s_time = time.time()\r\n",
    "sql_result = sql_query(engine_164, sql=word_sql.sql_result, sql_db_switch='USE JYFIN', return_df=True)\r\n",
    "e_time = time.time()\r\n",
    "logging.info(\"run_time: {:.2f}s\".format(e_time - s_time))\r\n",
    "logging.info(\"row_num:  {!r}\".format(sql_result.shape[0]))\r\n",
    "logging.info(\"\\n{0!r}\".format(sql_result.head(15)))"
   ],
   "outputs": [],
   "metadata": {}
  }
 ],
 "metadata": {
  "kernelspec": {
   "name": "python3",
   "display_name": "Python 3.7.11 64-bit ('datasci': conda)"
  },
  "language_info": {
   "codemirror_mode": {
    "name": "ipython",
    "version": 3
   },
   "file_extension": ".py",
   "mimetype": "text/x-python",
   "name": "python",
   "nbconvert_exporter": "python",
   "pygments_lexer": "ipython3",
   "version": "3.7.11"
  },
  "interpreter": {
   "hash": "445f488f917a5d8c0579fe3988f0d1a1f9ace87f62aac845300cf0fe03c07e2d"
  }
 },
 "nbformat": 4,
 "nbformat_minor": 5
}